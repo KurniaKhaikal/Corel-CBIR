{
  "nbformat": 4,
  "nbformat_minor": 0,
  "metadata": {
    "colab": {
      "name": "FeatureExtraction.ipynb",
      "provenance": [],
      "authorship_tag": "ABX9TyPxviua2acFr8yzz3/42/gQ",
      "include_colab_link": true
    },
    "kernelspec": {
      "name": "python3",
      "display_name": "Python 3"
    },
    "language_info": {
      "name": "python"
    }
  },
  "cells": [
    {
      "cell_type": "markdown",
      "metadata": {
        "id": "view-in-github",
        "colab_type": "text"
      },
      "source": [
        "<a href=\"https://colab.research.google.com/github/KurniaKhaikal/Corel-CBIR/blob/main/FeatureExtraction.ipynb\" target=\"_parent\"><img src=\"https://colab.research.google.com/assets/colab-badge.svg\" alt=\"Open In Colab\"/></a>"
      ]
    },
    {
      "cell_type": "code",
      "execution_count": 1,
      "metadata": {
        "id": "D4-o02DoV2tY"
      },
      "outputs": [],
      "source": [
        "import numpy as np\n",
        "import json\n",
        "import os\n",
        "from tensorflow.keras.applications import ResNet50\n",
        "from tensorflow.keras.models import Model\n"
      ]
    },
    {
      "cell_type": "code",
      "source": [
        "from imutils import paths\n",
        "import cv2\n",
        "from sklearn.preprocessing import LabelBinarizer"
      ],
      "metadata": {
        "id": "q9XVBKyeV-HA"
      },
      "execution_count": 2,
      "outputs": []
    },
    {
      "cell_type": "code",
      "source": [
        "from google.colab import drive\n",
        "drive.mount('/content/drive')"
      ],
      "metadata": {
        "colab": {
          "base_uri": "https://localhost:8080/"
        },
        "id": "6OqKYpyjWCXw",
        "outputId": "43232771-3e6b-4346-a87f-725229ac21e3"
      },
      "execution_count": 3,
      "outputs": [
        {
          "output_type": "stream",
          "name": "stdout",
          "text": [
            "Mounted at /content/drive\n"
          ]
        }
      ]
    },
    {
      "cell_type": "code",
      "source": [
        "base_dataset = \"/content/drive/MyDrive/Proposal/dataset\"\n",
        "class_dir = ['beaches', 'bus', 'dinosaurs',\n",
        "             'elephants', 'flowers', 'foods',\n",
        "             'horses', 'monuments', 'mountains_and_snow','peolpe_and_villages_in_Africa'\n",
        "             ]\n",
        "IMAGE_SIZE = (224, 224)"
      ],
      "metadata": {
        "id": "Hekkl1RTWRQQ"
      },
      "execution_count": 4,
      "outputs": []
    },
    {
      "cell_type": "code",
      "source": [
        "# indexing file images\n",
        "dataset_train = []\n",
        "for class_item in class_dir:\n",
        "    cur_dir = os.path.join(base_dataset, 'training_set', class_item)\n",
        "    for file in os.listdir(cur_dir):\n",
        "        dataset_train.append(os.path.join(cur_dir, file))"
      ],
      "metadata": {
        "id": "7zVsyGE8dKE6"
      },
      "execution_count": 5,
      "outputs": []
    },
    {
      "cell_type": "code",
      "source": [
        "print(\"train:\", len(dataset_train))"
      ],
      "metadata": {
        "colab": {
          "base_uri": "https://localhost:8080/"
        },
        "id": "JuOnKBlldOUh",
        "outputId": "7d48e6bf-5561-43a9-cd7d-c5f142edb14b"
      },
      "execution_count": 6,
      "outputs": [
        {
          "output_type": "stream",
          "name": "stdout",
          "text": [
            "train: 900\n"
          ]
        }
      ]
    },
    {
      "cell_type": "code",
      "source": [
        "print(\"[INFO] load images Corel-Image 1k dataset...\")\n",
        "#  load images\n",
        "train_images = []\n",
        "for image_path in dataset_train:\n",
        "    if \".jpg\" or \".jpeg\" in image_path:\n",
        "        image = cv2.imread(image_path)\n",
        "        image = cv2.resize(image, IMAGE_SIZE)\n",
        "        train_images.append(image)"
      ],
      "metadata": {
        "colab": {
          "base_uri": "https://localhost:8080/"
        },
        "id": "ItwGAQnYdQUC",
        "outputId": "a10d1418-d24b-4be0-c1e0-854eb24dac40"
      },
      "execution_count": 7,
      "outputs": [
        {
          "output_type": "stream",
          "name": "stdout",
          "text": [
            "[INFO] load images Corel-Image 1k dataset...\n"
          ]
        }
      ]
    },
    {
      "cell_type": "code",
      "source": [
        "# normalization\n",
        "print(\"[INFO] normalization...\")\n",
        "train_x = np.array(train_images).astype(\"float32\") / 255.0"
      ],
      "metadata": {
        "colab": {
          "base_uri": "https://localhost:8080/"
        },
        "id": "YewVc4t3eFDr",
        "outputId": "21a14b12-77e3-47f2-fd66-1b7ce06755a8"
      },
      "execution_count": 8,
      "outputs": [
        {
          "output_type": "stream",
          "name": "stdout",
          "text": [
            "[INFO] normalization...\n"
          ]
        }
      ]
    },
    {
      "cell_type": "code",
      "source": [
        "from tensorflow.keras.applications.vgg16 import VGG16\n",
        "modelVGG16 = VGG16(weights=\"imagenet\")\n",
        "model = Model(inputs=modelVGG16.input, outputs=modelVGG16.get_layer(\"fc1\").output)\n",
        "model.summary()"
      ],
      "metadata": {
        "colab": {
          "base_uri": "https://localhost:8080/"
        },
        "id": "vTV0xPWUeIHp",
        "outputId": "fa8ebafd-1a2a-4029-9125-64f630162333"
      },
      "execution_count": 9,
      "outputs": [
        {
          "output_type": "stream",
          "name": "stdout",
          "text": [
            "Downloading data from https://storage.googleapis.com/tensorflow/keras-applications/vgg16/vgg16_weights_tf_dim_ordering_tf_kernels.h5\n",
            "553467904/553467096 [==============================] - 7s 0us/step\n",
            "553476096/553467096 [==============================] - 7s 0us/step\n",
            "Model: \"model\"\n",
            "_________________________________________________________________\n",
            " Layer (type)                Output Shape              Param #   \n",
            "=================================================================\n",
            " input_1 (InputLayer)        [(None, 224, 224, 3)]     0         \n",
            "                                                                 \n",
            " block1_conv1 (Conv2D)       (None, 224, 224, 64)      1792      \n",
            "                                                                 \n",
            " block1_conv2 (Conv2D)       (None, 224, 224, 64)      36928     \n",
            "                                                                 \n",
            " block1_pool (MaxPooling2D)  (None, 112, 112, 64)      0         \n",
            "                                                                 \n",
            " block2_conv1 (Conv2D)       (None, 112, 112, 128)     73856     \n",
            "                                                                 \n",
            " block2_conv2 (Conv2D)       (None, 112, 112, 128)     147584    \n",
            "                                                                 \n",
            " block2_pool (MaxPooling2D)  (None, 56, 56, 128)       0         \n",
            "                                                                 \n",
            " block3_conv1 (Conv2D)       (None, 56, 56, 256)       295168    \n",
            "                                                                 \n",
            " block3_conv2 (Conv2D)       (None, 56, 56, 256)       590080    \n",
            "                                                                 \n",
            " block3_conv3 (Conv2D)       (None, 56, 56, 256)       590080    \n",
            "                                                                 \n",
            " block3_pool (MaxPooling2D)  (None, 28, 28, 256)       0         \n",
            "                                                                 \n",
            " block4_conv1 (Conv2D)       (None, 28, 28, 512)       1180160   \n",
            "                                                                 \n",
            " block4_conv2 (Conv2D)       (None, 28, 28, 512)       2359808   \n",
            "                                                                 \n",
            " block4_conv3 (Conv2D)       (None, 28, 28, 512)       2359808   \n",
            "                                                                 \n",
            " block4_pool (MaxPooling2D)  (None, 14, 14, 512)       0         \n",
            "                                                                 \n",
            " block5_conv1 (Conv2D)       (None, 14, 14, 512)       2359808   \n",
            "                                                                 \n",
            " block5_conv2 (Conv2D)       (None, 14, 14, 512)       2359808   \n",
            "                                                                 \n",
            " block5_conv3 (Conv2D)       (None, 14, 14, 512)       2359808   \n",
            "                                                                 \n",
            " block5_pool (MaxPooling2D)  (None, 7, 7, 512)         0         \n",
            "                                                                 \n",
            " flatten (Flatten)           (None, 25088)             0         \n",
            "                                                                 \n",
            " fc1 (Dense)                 (None, 4096)              102764544 \n",
            "                                                                 \n",
            "=================================================================\n",
            "Total params: 117,479,232\n",
            "Trainable params: 117,479,232\n",
            "Non-trainable params: 0\n",
            "_________________________________________________________________\n"
          ]
        }
      ]
    },
    {
      "cell_type": "code",
      "source": [
        "features = model.predict(train_x)"
      ],
      "metadata": {
        "id": "wFUyZ4vtgXyh"
      },
      "execution_count": 10,
      "outputs": []
    },
    {
      "cell_type": "code",
      "source": [
        "indexes = list(range(0, train_x.shape[0]))\n",
        "features_array = [[float(x) for x in y] for y in features]\n",
        "labels = [path.split(\"/\")[7] for path in dataset_train]\n",
        "data_train = {\"indexes\": indexes, \"features\": features_array, \"locations\": dataset_train, \"labels\":labels}"
      ],
      "metadata": {
        "id": "_3W_OXMZg26I"
      },
      "execution_count": 11,
      "outputs": []
    },
    {
      "cell_type": "code",
      "source": [
        "with open('/content/drive/MyDrive/Proposal/feature_extraction2.json', 'w') as f:\n",
        "    json.dump(data_train, f)"
      ],
      "metadata": {
        "id": "GTcB4olGiZuH"
      },
      "execution_count": 12,
      "outputs": []
    }
  ]
}